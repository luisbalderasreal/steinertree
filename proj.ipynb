{
 "cells": [
  {
   "cell_type": "code",
   "execution_count": 1,
   "id": "1fb48959",
   "metadata": {},
   "outputs": [],
   "source": [
    "import numpy as np"
   ]
  },
  {
   "cell_type": "code",
   "execution_count": 2,
   "id": "1e9484ba",
   "metadata": {},
   "outputs": [],
   "source": [
    "numVertices = 3\n",
    "vertices = list(range(numVertices))"
   ]
  },
  {
   "cell_type": "code",
   "execution_count": 3,
   "id": "15bad5aa",
   "metadata": {},
   "outputs": [],
   "source": [
    "#first 2 elements: connecting vertices. Element 3: cost\n",
    "edges = [(0,1,1),(0,2,3)]"
   ]
  },
  {
   "cell_type": "code",
   "execution_count": 4,
   "id": "154b4119",
   "metadata": {},
   "outputs": [],
   "source": [
    "adjMatrix = [[None] * numVertices for i in vertices]\n",
    "for e in edges:\n",
    "    adjMatrix[e[0]][e[1]] = e\n",
    "    adjMatrix[e[1]][e[0]] = e"
   ]
  },
  {
   "cell_type": "code",
   "execution_count": 5,
   "id": "27c50885",
   "metadata": {},
   "outputs": [
    {
     "data": {
      "text/plain": [
       "[[None, (0, 1, 1), (0, 2, 3)],\n",
       " [(0, 1, 1), None, None],\n",
       " [(0, 2, 3), None, None]]"
      ]
     },
     "execution_count": 5,
     "metadata": {},
     "output_type": "execute_result"
    }
   ],
   "source": [
    "adjMatrix"
   ]
  },
  {
   "cell_type": "code",
   "execution_count": 6,
   "id": "dc9922a2",
   "metadata": {},
   "outputs": [],
   "source": [
    "def dijkstra(source,target):\n",
    "    dist = [np.inf]*numVertices\n",
    "    Q = vertices.copy()\n",
    "    dist[source] = 0\n",
    "    \n",
    "    while Q != []:\n",
    "        u = dist.index(min([dist[i] for i in Q]))\n",
    "        if u == target:\n",
    "            return dist[u]\n",
    "        Q.remove(u)\n",
    "        \n",
    "        for v in Q:\n",
    "            if adjMatrix[u][v] == None:\n",
    "                continue\n",
    "            alt = dist[u] + adjMatrix[u][v][2]\n",
    "            if alt < dist[v]:\n",
    "                dist[v] = alt"
   ]
  },
  {
   "cell_type": "code",
   "execution_count": 12,
   "id": "ab8f25ed",
   "metadata": {},
   "outputs": [
    {
     "data": {
      "text/plain": [
       "3"
      ]
     },
     "execution_count": 12,
     "metadata": {},
     "output_type": "execute_result"
    }
   ],
   "source": [
    "dijkstra(0,2)"
   ]
  }
 ],
 "metadata": {
  "kernelspec": {
   "display_name": "Python 3 (ipykernel)",
   "language": "python",
   "name": "python3"
  },
  "language_info": {
   "codemirror_mode": {
    "name": "ipython",
    "version": 3
   },
   "file_extension": ".py",
   "mimetype": "text/x-python",
   "name": "python",
   "nbconvert_exporter": "python",
   "pygments_lexer": "ipython3",
   "version": "3.9.7"
  }
 },
 "nbformat": 4,
 "nbformat_minor": 5
}
